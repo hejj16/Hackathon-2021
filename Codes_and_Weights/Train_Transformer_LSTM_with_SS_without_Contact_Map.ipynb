{
  "nbformat": 4,
  "nbformat_minor": 0,
  "metadata": {
    "colab": {
      "name": "Train_Transformer_LSTM_with_SS_without_Contact_Map.ipynb",
      "provenance": [],
      "collapsed_sections": [],
      "machine_shape": "hm"
    },
    "kernelspec": {
      "name": "python3",
      "display_name": "Python 3"
    },
    "language_info": {
      "name": "python"
    },
    "accelerator": "GPU"
  },
  "cells": [
    {
      "cell_type": "markdown",
      "metadata": {
        "id": "RuyGjGmAtALP"
      },
      "source": [
        "Mount to Drive"
      ]
    },
    {
      "cell_type": "code",
      "metadata": {
        "colab": {
          "base_uri": "https://localhost:8080/"
        },
        "id": "HNde72MTgFmb",
        "outputId": "45acbb95-5daf-4d9b-ba58-1f21f6bff0d6"
      },
      "source": [
        "from google.colab import drive\n",
        "drive.mount('/content/drive', force_remount=True)"
      ],
      "execution_count": null,
      "outputs": [
        {
          "output_type": "stream",
          "text": [
            "Mounted at /content/drive\n"
          ],
          "name": "stdout"
        }
      ]
    },
    {
      "cell_type": "code",
      "metadata": {
        "id": "DWMzfV1tszR_"
      },
      "source": [
        "! cp -r ./drive/MyDrive/ESM/esm/* ."
      ],
      "execution_count": null,
      "outputs": []
    },
    {
      "cell_type": "code",
      "metadata": {
        "id": "4OjfVp1qs0NN"
      },
      "source": [
        "import random\n",
        "from collections import Counter\n",
        "from tqdm import tqdm\n",
        "\n",
        "import torch\n",
        "from torch import nn \n",
        "from torch.utils.data import Dataset,DataLoader,TensorDataset\n",
        "\n",
        "\n",
        "import numpy as np\n",
        "import pandas as pd\n",
        "import seaborn as sns\n",
        "\n",
        "import esm\n",
        "\n",
        "import matplotlib.pyplot as plt\n",
        "from scipy.stats import pearsonr"
      ],
      "execution_count": null,
      "outputs": []
    },
    {
      "cell_type": "markdown",
      "metadata": {
        "id": "W1Aat81js_cT"
      },
      "source": [
        "Load the training dataset..."
      ]
    },
    {
      "cell_type": "code",
      "metadata": {
        "id": "b_VIsAaZZxop"
      },
      "source": [
        "\n",
        "\n",
        "data_mul = pd.read_csv(\"./multiple_muts_train.csv\", )\n",
        "data_single = pd.read_csv(\"./single_muts_train.csv\")\n",
        "\n",
        "data = pd.concat((data_mul, data_single), axis=0)\n",
        "data[\"name\"] = [\"protein\" + str(i) for i in range(data.shape[0])]\n",
        "\n",
        "data = data.loc[:, [\"name\", \"secondary_structure\", \"stabilityscore\"]]\n",
        "data.reset_index(drop=True, inplace=True)\n",
        "\n",
        "\n",
        "# Store the proteins as .fasta file\n",
        "with open(\"dataset.fasta\", \"w\") as f:\n",
        "    for i in range(data.shape[0]):\n",
        "        f.write(\">\"+data.loc[i, \"name\"]+\"\\n\")\n",
        "        f.write(data.loc[i, \"sequence\"]+\"\\n\""
      ],
      "execution_count": null,
      "outputs": []
    },
    {
      "cell_type": "code",
      "metadata": {
        "id": "tK2g41Civfn8"
      },
      "source": [
        "nan_list = []\n",
        "for i in range(data.shape[0]):\n",
        "  if np.isnan(np.array(data.loc[i, \"stabilityscore\"])):\n",
        "    nan_list.append(i)\n",
        "data = data.drop(nan_list)\n",
        "data.reset_index(drop=True, inplace=True)\n",
        "data.shape"
      ],
      "execution_count": null,
      "outputs": []
    },
    {
      "cell_type": "markdown",
      "metadata": {
        "id": "7n0Tg_JqtcI5"
      },
      "source": [
        "Load the Model and Packages..."
      ]
    },
    {
      "cell_type": "code",
      "metadata": {
        "id": "Ya3AIlZzZymK"
      },
      "source": [
        "device = \"cuda\""
      ],
      "execution_count": null,
      "outputs": []
    },
    {
      "cell_type": "code",
      "metadata": {
        "id": "X0_FvdhiUuao"
      },
      "source": [
        "! python extract.py esm1b_t33_650M_UR50S dataset.fasta ./train_all_reprs/ --include per_tok"
      ],
      "execution_count": null,
      "outputs": []
    },
    {
      "cell_type": "code",
      "metadata": {
        "id": "FFrnTrMzanqe"
      },
      "source": [
        "SS = []\n",
        "dict = {\"H\": 0, \"E\": 1, \"T\": 2}\n",
        "for i in range(data.shape[0]):\n",
        "  ss = data.loc[i, \"secondary_structure\"]\n",
        "  s = np.array([dict[ss[i]] for i in range(len(ss))])\n",
        "  SS.append(torch.from_numpy(s))"
      ],
      "execution_count": null,
      "outputs": []
    },
    {
      "cell_type": "code",
      "metadata": {
        "id": "OP-q98Vlh0st"
      },
      "source": [
        "\n",
        "EMB_PATH = \"./train_all_reprs/\"\n",
        "EMB_LAYER = 33\n",
        "\n",
        "import torch \n",
        "\n",
        "\n",
        "class ProteinData(Dataset):\n",
        "        \n",
        "    def __len__(self):\n",
        "        return data.shape[0]\n",
        "    \n",
        "    def __getitem__(self,i):\n",
        "        x = torch.load(EMB_PATH + data.loc[i, \"name\"] + \".pt\")[\"representations\"][33]\n",
        "        ss = SS[i]\n",
        "        y = data.loc[i, \"stabilityscore\"]\n",
        "        label = torch.tensor(y).float()\n",
        "        return (x,label,ss)\n",
        "\n",
        "    \n",
        "ds_train = ProteinData()\n",
        "\n"
      ],
      "execution_count": null,
      "outputs": []
    },
    {
      "cell_type": "code",
      "metadata": {
        "id": "jccKEF22fhJ9"
      },
      "source": [
        "train_size = int(len(ds_train) * 0.7)\n",
        "test_size = len(ds_train) - train_size\n",
        "train_dataset, test_dataset = torch.utils.data.random_split(ds_train, [train_size, test_size], generator=torch.Generator().manual_seed(42))\n",
        "\n",
        "dl_train = DataLoader(train_dataset, batch_size = 128, shuffle=True, drop_last=True)\n",
        "dl_test = DataLoader(test_dataset, batch_size = 128, shuffle=True, drop_last=True)"
      ],
      "execution_count": null,
      "outputs": []
    },
    {
      "cell_type": "code",
      "metadata": {
        "id": "1FPzudGcaCTJ"
      },
      "source": [
        "class LSTMs(nn.Module):\n",
        "    def __init__(self):\n",
        "        super().__init__()\n",
        "        self.lstm1 = nn.LSTM(input_size = 1280, \n",
        "                             hidden_size = 100,\n",
        "                             num_layers = 2,\n",
        "                             batch_first = True,\n",
        "                             bidirectional = True,\n",
        "                             dropout = 0.1\n",
        "                            )\n",
        "\n",
        "        self.lstm2 = nn.LSTM(input_size = 200, \n",
        "                             hidden_size = 10,\n",
        "                             num_layers = 2,\n",
        "                             batch_first = True,\n",
        "                             bidirectional = True,\n",
        "                             dropout = 0.1\n",
        "                            )\n",
        "        self.embedding = nn.Embedding(3, 5)\n",
        "        self.lstm4 = nn.LSTM(input_size = 5, \n",
        "                             hidden_size = 10,\n",
        "                             num_layers = 2,\n",
        "                             batch_first = True,\n",
        "                             bidirectional = True,\n",
        "                             dropout = 0.1\n",
        "                            )\n",
        "        self.lstm3 = nn.LSTM(input_size = 40, \n",
        "                             hidden_size = 10,\n",
        "                             num_layers = 2,\n",
        "                             batch_first = True,\n",
        "                             bidirectional = True,\n",
        "                             dropout = 0.1\n",
        "                            )\n",
        "        \n",
        "        self.linear1 = nn.Linear(20, 20)\n",
        "        self.linear2 = nn.Linear(20, 1)\n",
        "        \n",
        "\n",
        "    def forward(self, x, ss):\n",
        "        ss = self.embedding(ss)\n",
        "        ss = self.lstm4(ss)[0]\n",
        "        y = self.lstm1(x)[0]\n",
        "        y = self.lstm2(y)[0]\n",
        "\n",
        "        y = torch.cat((y, ss), dim=2)   \n",
        "        y = self.lstm3(y)[0]   \n",
        "        y = torch.mean(y, dim=1)\n",
        "        y = self.linear1(y)\n",
        "        #y = self.dropout(y)\n",
        "        y = self.linear2(y)\n",
        "        \n",
        "        return y"
      ],
      "execution_count": null,
      "outputs": []
    },
    {
      "cell_type": "code",
      "metadata": {
        "colab": {
          "base_uri": "https://localhost:8080/"
        },
        "id": "COCXoZEQiLKx",
        "outputId": "142e57c0-0799-4586-b2fd-328389bfbe30"
      },
      "source": [
        "model = LSTMs().to(device)\n",
        "\n",
        "# Kaiming And orthogonal Initialization\n",
        "for m in model.modules():\n",
        "    if isinstance(m, (nn.Linear)):\n",
        "        nn.init.kaiming_normal_(m.weight)\n",
        "    if isinstance(m, (nn.LSTM)):\n",
        "        for name, param in m.named_parameters():\n",
        "          if 'weight' in name:\n",
        "            nn.init.orthogonal_(param)\n",
        "                \n",
        "\n",
        "\n",
        "model.load_state_dict(torch.load(\"./drive/MyDrive/ESM/LSTM_with_SS_no_Contact_Map.pkl\"))"
      ],
      "execution_count": null,
      "outputs": [
        {
          "output_type": "execute_result",
          "data": {
            "text/plain": [
              "<All keys matched successfully>"
            ]
          },
          "metadata": {
            "tags": []
          },
          "execution_count": 446
        }
      ]
    },
    {
      "cell_type": "code",
      "metadata": {
        "id": "OA-LroGesuzi"
      },
      "source": [
        "def clip_gradient(optimizer, grad_clip):\n",
        "    for group in optimizer.param_groups:\n",
        "        for param in group[\"params\"]:\n",
        "            if param.grad is not None:\n",
        "                param.grad.data.clamp_(-grad_clip, grad_clip)"
      ],
      "execution_count": null,
      "outputs": []
    },
    {
      "cell_type": "code",
      "metadata": {
        "id": "Xww4iyWC--uH"
      },
      "source": [
        "Loss = torch.nn.MSELoss()\n",
        "optimizer = torch.optim.Adam(model.parameters(), lr = 0.01, weight_decay=0.)"
      ],
      "execution_count": null,
      "outputs": []
    },
    {
      "cell_type": "code",
      "metadata": {
        "id": "_U56tD_-eR4Y"
      },
      "source": [
        "def train_step(model, features, labels, ss):\n",
        "\n",
        "    model.train()\n",
        "\n",
        "    optimizer.zero_grad()\n",
        "\n",
        "    predictions = model(features.to(device), ss.to(device))\n",
        "    loss = Loss(predictions, labels.reshape(-1, 1).to(device))\n",
        "    loss.backward()\n",
        "    clip_gradient(optimizer, 10)\n",
        "    optimizer.step()\n",
        "\n",
        "    pccs = pearsonr(predictions.reshape(-1).detach().cpu().numpy(), labels.reshape(-1).detach().cpu().numpy())\n",
        "    return loss.item(), pccs[0]\n",
        "\n",
        "def valid_step(model, features, labels, ss):\n",
        "\n",
        "    model.eval()\n",
        "\n",
        "    with torch.no_grad():\n",
        "        predictions = model(features.to(device), ss.to(device))\n",
        "        loss = Loss(predictions, labels.reshape(-1, 1).to(device))\n",
        "    \n",
        "    return loss.item(), predictions\n"
      ],
      "execution_count": null,
      "outputs": []
    },
    {
      "cell_type": "code",
      "metadata": {
        "colab": {
          "base_uri": "https://localhost:8080/"
        },
        "id": "wVOqUn5JixRp",
        "outputId": "ac03feb0-6362-43d1-c937-0f9d78656342"
      },
      "source": [
        "\n",
        "epochs = 200\n",
        "TRAIN_LOSS = []\n",
        "TEST_LOSS = []\n",
        "TRAIN_CORR = []\n",
        "TEST_CORR = []\n",
        "plt.rcParams['figure.figsize'] = (15, 4)\n",
        "for epoch in range(epochs):\n",
        "    losses = []\n",
        "    pcces = []\n",
        "    for batch in dl_train:\n",
        "        loss1, pcc = train_step(model, batch[0], batch[1], batch[2])\n",
        "        losses.append(loss1)\n",
        "        pcces.append(pcc)\n",
        "    TRAIN_LOSS.append(sum(losses) / len(losses))\n",
        "    TRAIN_CORR.append(sum(pcces) / len(pcces))\n",
        "    plt.subplot(1,3,1)\n",
        "    plt.plot(losses)\n",
        "    plt.subplot(1,3,2)\n",
        "    plt.plot(pcces)\n",
        "    \n",
        "    losses = []\n",
        "    pcces = []\n",
        "    preds = []\n",
        "    labels = []\n",
        "    for batch in dl_test:\n",
        "        features = batch[0]#[mask]\n",
        "        label = batch[1]#[mask]\n",
        "        loss2, predictions = valid_step(model, features, label, batch[2])\n",
        "        losses.append(loss2)\n",
        "        for i in range(predictions.shape[0]):\n",
        "          preds.append(predictions[i].cpu().numpy().item())\n",
        "          labels.append(label[i].cpu().numpy().item())\n",
        "\n",
        "    pccs = pearsonr(np.array(preds), np.array(labels))[0]\n",
        "    TEST_LOSS.append(sum(losses) / len(losses))\n",
        "    TEST_CORR.append(pccs)\n",
        "    plt.subplot(1,3,3)\n",
        "    plt.scatter(preds, labels, s=1)\n",
        "    plt.axis(\"equal\")\n",
        "    plt.show()\n",
        "    print(\"valid loss: \", sum(losses) / len(losses))\n",
        "    print(\"valid correlation: \", pccs)\n",
        "\n",
        "    if TEST_CORR[-1] == max(TEST_CORR): \n",
        "      print(\"sota!\")\n",
        "      torch.save(model.state_dict(), \"./drive/MyDrive/ESM/LSTM_with_SS_no_Contact_Map.pkl\")\n",
        "    \n",
        "\n",
        "    \n"
      ],
      "execution_count": null,
      "outputs": [
        {
          "output_type": "stream",
          "text": [
            "\n"
          ],
          "name": "stdout"
        }
      ]
    },
    {
      "cell_type": "markdown",
      "metadata": {
        "id": "AL9kwv2_wrph"
      },
      "source": [
        "Plot the result for training set:"
      ]
    },
    {
      "cell_type": "code",
      "metadata": {
        "id": "lrasDV0P6Mu5"
      },
      "source": [
        "preds = []\n",
        "labels = []\n",
        "\n",
        "for batch in dl_train:\n",
        "    model.eval()\n",
        "\n",
        "    with torch.no_grad():\n",
        "        predictions = model(batch[0].to(device), batch[2].to(device)).reshape(-1)\n",
        "    for i in range(predictions.shape[0]):\n",
        "      preds.append(predictions[i].cpu().numpy().item())\n",
        "      labels.append(batch[1][i].cpu().numpy().item())\n",
        "\n",
        "plt.rcParams['figure.figsize'] = (6, 6)\n",
        "plt.scatter(preds, labels, s=20, alpha=0.5, edgecolors=\"black\")\n",
        "plt.text(x=0, y=2, s=\"Correlation Coefficient:\"+str(pearsonr(np.array(preds), np.array(labels))[0]))\n",
        "plt.plot((-0.6, 1.7), (-0.6, 1.7), \"red\", alpha=0.4, linewidth=3)\n",
        "plt.ylabel(\"Stability Score\")\n",
        "plt.xlabel(\"Predicted Score\")\n",
        "plt.title(\"Single & Multiple Mutations (on Training Dataset)\")\n",
        "plt.show()"
      ],
      "execution_count": null,
      "outputs": []
    },
    {
      "cell_type": "code",
      "metadata": {
        "id": "gR_yaCuXwxzv"
      },
      "source": [
        "\n",
        "\n"
      ],
      "execution_count": null,
      "outputs": []
    },
    {
      "cell_type": "code",
      "metadata": {
        "id": "yu0VvJlbgy3B"
      },
      "source": [
        "\"\"\"\n",
        "class LSTMs(nn.Module):\n",
        "    def __init__(self):\n",
        "        super().__init__()\n",
        "        self.lstm1 = nn.LSTM(input_size = 1280, \n",
        "                             hidden_size = 100,\n",
        "                             num_layers = 2,\n",
        "                             batch_first = True,\n",
        "                             bidirectional = True,\n",
        "                             dropout = 0.3\n",
        "                            )\n",
        "        self.lstm2 = nn.LSTM(input_size = 200, \n",
        "                             hidden_size = 50,\n",
        "                             num_layers = 2,\n",
        "                             batch_first = True,\n",
        "                             bidirectional = True,\n",
        "                             dropout = 0.3\n",
        "                            )\n",
        "        self.linear1 = nn.Linear(100, 20)\n",
        "        self.linear2 = nn.Linear(20, 1)\n",
        "\n",
        "    def forward(self, x, ss):\n",
        "        #x = torch.cat((x, ss), dim=2) \n",
        "        y = self.lstm1(x)[0]\n",
        "        y = self.lstm2(y)[0]\n",
        "        y = torch.mean(y, dim=1)\n",
        "        y = self.linear1(y)\n",
        "        y = self.linear2(y)\n",
        "\n",
        "        return y\n",
        "\"\"\"      \n"
      ],
      "execution_count": null,
      "outputs": []
    },
    {
      "cell_type": "code",
      "metadata": {
        "id": "-PAhO_ese_Bj"
      },
      "source": [
        ""
      ],
      "execution_count": null,
      "outputs": []
    }
  ]
}